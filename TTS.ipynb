{
 "cells": [
  {
   "cell_type": "markdown",
   "metadata": {},
   "source": [
    "pyttsx3:\n",
    "pip install pyttsx3\n",
    "https://pyttsx3.readthedocs.io/en/latest/\n",
    "\n",
    "gTTS:\n",
    "pip install gTTS\n",
    "https://pypi.org/project/gTTS/\n",
    "\n",
    "Google Trans:\n",
    "pip install googletrans\n",
    "https://pypi.org/project/googletrans/\n",
    "\n",
    "py-translate: Command Line Interface (CLI) Tool for Linux and Mac\n",
    "pip install py-translate\n",
    "https://pypi.org/project/py-translate/\n",
    "\n",
    "\n",
    "Language Packs:\n",
    "https://support.microsoft.com/en-us/windows/language-packs-for-windows-a5094319-a92d-18de-5b53-1cfc697cfca8\n",
    "\n",
    "eSpeak (Linix Language Packs):\n",
    "http://espeak.sourceforge.net/languages.html\n",
    "\n"
   ]
  },
  {
   "cell_type": "markdown",
   "metadata": {},
   "source": [
    "TTS:\n",
    "    pyttsx3:\n",
    "    \n",
    "        Works offline"
   ]
  },
  {
   "cell_type": "code",
   "execution_count": 4,
   "metadata": {},
   "outputs": [],
   "source": [
    "import pyttsx3 as TTS3\n",
    "engine=TTS3.init()"
   ]
  },
  {
   "cell_type": "code",
   "execution_count": 5,
   "metadata": {},
   "outputs": [],
   "source": [
    "#Hellow World Test:\n",
    "f=open('Frankenstein or The modern Prometheus.txt', errors='ignore')\n",
    "text=f.read()\n",
    "f.close()\n",
    "#print(text)\n",
    "\n",
    "file_name='Frankenstein.mp3'\n",
    "engine.save_to_file(text, file_name)\n",
    "engine.runAndWait()"
   ]
  },
  {
   "cell_type": "code",
   "execution_count": 3,
   "metadata": {},
   "outputs": [
    {
     "name": "stdout",
     "output_type": "stream",
     "text": [
      "['Hi, how are you?  split 1 here', ' Website www.python.com', ' fin', '']\n",
      "Hi, how are you?  split 1 here.  Website www.python.com.  fin. \n"
     ]
    }
   ],
   "source": [
    "phrase='Hi, how are you?  split 1 here.  Website www.python.com.  fin. '\n",
    "chunks=phrase.split('. ')\n",
    "\n",
    "#for i in chunks:\n",
    "#    engine.say(i)\n",
    "#    engine.runAndWait()\n",
    "print(chunks)\n",
    "print('. '.join(chunks))"
   ]
  },
  {
   "cell_type": "code",
   "execution_count": 9,
   "metadata": {},
   "outputs": [],
   "source": [
    "#importing gTTS and googletrans:\n",
    "import gtts\n",
    "from gtts import gTTS\n",
    "from googletrans import Translator\n",
    "import os"
   ]
  },
  {
   "cell_type": "code",
   "execution_count": null,
   "metadata": {},
   "outputs": [],
   "source": [
    "#to get language codes:\n",
    "gtts.lang.tts_langs()\n",
    "\n",
    "#'en-us': 'English (US)'\n",
    "#'en': 'English',\n",
    "#'gu': 'Gujarati',\n",
    "#'es': 'Spanish',\n",
    "#'vi': 'Vietnamese'"
   ]
  },
  {
   "cell_type": "code",
   "execution_count": 28,
   "metadata": {},
   "outputs": [],
   "source": [
    "#Read in text\n",
    "f=open('Frankenstein or The modern Prometheus.txt',encoding='utf-8', errors='ignore')\n",
    "text=f.read()\n",
    "f.close()\n",
    "\n",
    "#removing bad characters:\n",
    "badCharacters=['[', ']', '_',  '*', '-' ]\n",
    "for i in badCharacters:\n",
    "    text=text.replace(i, '')\n",
    "\n",
    "#Break text into ~5000 character lengths\n",
    "Sentences=text.split('. ')\n",
    "Pharagraphs=[]\n",
    "temp=''\n",
    "for i in Sentences:\n",
    "    if len(i)+len(temp)<=500:\n",
    "        temp+=('. '+i)\n",
    "    else:\n",
    "        Pharagraphs.append(temp)\n",
    "        temp=i\n",
    "Pharagraphs.append(temp)        \n"
   ]
  },
  {
   "cell_type": "code",
   "execution_count": 23,
   "metadata": {},
   "outputs": [
    {
     "ename": "AttributeError",
     "evalue": "'NoneType' object has no attribute 'group'",
     "output_type": "error",
     "traceback": [
      "\u001b[1;31m---------------------------------------------------------------------------\u001b[0m",
      "\u001b[1;31mAttributeError\u001b[0m                            Traceback (most recent call last)",
      "\u001b[1;32m<ipython-input-23-b89fc8cf1332>\u001b[0m in \u001b[0;36m<module>\u001b[1;34m\u001b[0m\n\u001b[0;32m      9\u001b[0m \u001b[0mPharagraphs_Translated\u001b[0m\u001b[1;33m=\u001b[0m\u001b[1;33m[\u001b[0m\u001b[1;33m]\u001b[0m\u001b[1;33m\u001b[0m\u001b[1;33m\u001b[0m\u001b[0m\n\u001b[0;32m     10\u001b[0m \u001b[1;32mfor\u001b[0m \u001b[0mPharagraph\u001b[0m \u001b[1;32min\u001b[0m \u001b[0mPharagraphs\u001b[0m\u001b[1;33m[\u001b[0m\u001b[1;33m:\u001b[0m\u001b[1;36m3\u001b[0m\u001b[1;33m]\u001b[0m\u001b[1;33m:\u001b[0m\u001b[1;33m\u001b[0m\u001b[1;33m\u001b[0m\u001b[0m\n\u001b[1;32m---> 11\u001b[1;33m     \u001b[0mtranslation\u001b[0m\u001b[1;33m=\u001b[0m\u001b[0mtranslator\u001b[0m\u001b[1;33m.\u001b[0m\u001b[0mtranslate\u001b[0m\u001b[1;33m(\u001b[0m\u001b[0mPharagraph\u001b[0m\u001b[1;33m,\u001b[0m \u001b[0mdest\u001b[0m\u001b[1;33m=\u001b[0m\u001b[0mlanguage\u001b[0m\u001b[1;33m)\u001b[0m\u001b[1;33m\u001b[0m\u001b[1;33m\u001b[0m\u001b[0m\n\u001b[0m\u001b[0;32m     12\u001b[0m     \u001b[0mPharagraphs_Translated\u001b[0m\u001b[1;33m.\u001b[0m\u001b[0mappend\u001b[0m\u001b[1;33m(\u001b[0m\u001b[0mtranslation\u001b[0m\u001b[1;33m.\u001b[0m\u001b[0mtext\u001b[0m\u001b[1;33m)\u001b[0m\u001b[1;33m\u001b[0m\u001b[1;33m\u001b[0m\u001b[0m\n",
      "\u001b[1;32m~\\Anaconda3\\envs\\TTS\\lib\\site-packages\\googletrans\\client.py\u001b[0m in \u001b[0;36mtranslate\u001b[1;34m(self, text, dest, src, **kwargs)\u001b[0m\n\u001b[0;32m    180\u001b[0m \u001b[1;33m\u001b[0m\u001b[0m\n\u001b[0;32m    181\u001b[0m         \u001b[0morigin\u001b[0m \u001b[1;33m=\u001b[0m \u001b[0mtext\u001b[0m\u001b[1;33m\u001b[0m\u001b[1;33m\u001b[0m\u001b[0m\n\u001b[1;32m--> 182\u001b[1;33m         \u001b[0mdata\u001b[0m \u001b[1;33m=\u001b[0m \u001b[0mself\u001b[0m\u001b[1;33m.\u001b[0m\u001b[0m_translate\u001b[0m\u001b[1;33m(\u001b[0m\u001b[0mtext\u001b[0m\u001b[1;33m,\u001b[0m \u001b[0mdest\u001b[0m\u001b[1;33m,\u001b[0m \u001b[0msrc\u001b[0m\u001b[1;33m,\u001b[0m \u001b[0mkwargs\u001b[0m\u001b[1;33m)\u001b[0m\u001b[1;33m\u001b[0m\u001b[1;33m\u001b[0m\u001b[0m\n\u001b[0m\u001b[0;32m    183\u001b[0m \u001b[1;33m\u001b[0m\u001b[0m\n\u001b[0;32m    184\u001b[0m         \u001b[1;31m# this code will be updated when the format is changed.\u001b[0m\u001b[1;33m\u001b[0m\u001b[1;33m\u001b[0m\u001b[1;33m\u001b[0m\u001b[0m\n",
      "\u001b[1;32m~\\Anaconda3\\envs\\TTS\\lib\\site-packages\\googletrans\\client.py\u001b[0m in \u001b[0;36m_translate\u001b[1;34m(self, text, dest, src, override)\u001b[0m\n\u001b[0;32m     76\u001b[0m \u001b[1;33m\u001b[0m\u001b[0m\n\u001b[0;32m     77\u001b[0m     \u001b[1;32mdef\u001b[0m \u001b[0m_translate\u001b[0m\u001b[1;33m(\u001b[0m\u001b[0mself\u001b[0m\u001b[1;33m,\u001b[0m \u001b[0mtext\u001b[0m\u001b[1;33m,\u001b[0m \u001b[0mdest\u001b[0m\u001b[1;33m,\u001b[0m \u001b[0msrc\u001b[0m\u001b[1;33m,\u001b[0m \u001b[0moverride\u001b[0m\u001b[1;33m)\u001b[0m\u001b[1;33m:\u001b[0m\u001b[1;33m\u001b[0m\u001b[1;33m\u001b[0m\u001b[0m\n\u001b[1;32m---> 78\u001b[1;33m         \u001b[0mtoken\u001b[0m \u001b[1;33m=\u001b[0m \u001b[0mself\u001b[0m\u001b[1;33m.\u001b[0m\u001b[0mtoken_acquirer\u001b[0m\u001b[1;33m.\u001b[0m\u001b[0mdo\u001b[0m\u001b[1;33m(\u001b[0m\u001b[0mtext\u001b[0m\u001b[1;33m)\u001b[0m\u001b[1;33m\u001b[0m\u001b[1;33m\u001b[0m\u001b[0m\n\u001b[0m\u001b[0;32m     79\u001b[0m         params = utils.build_params(query=text, src=src, dest=dest,\n\u001b[0;32m     80\u001b[0m                                     token=token, override=override)\n",
      "\u001b[1;32m~\\Anaconda3\\envs\\TTS\\lib\\site-packages\\googletrans\\gtoken.py\u001b[0m in \u001b[0;36mdo\u001b[1;34m(self, text)\u001b[0m\n\u001b[0;32m    192\u001b[0m \u001b[1;33m\u001b[0m\u001b[0m\n\u001b[0;32m    193\u001b[0m     \u001b[1;32mdef\u001b[0m \u001b[0mdo\u001b[0m\u001b[1;33m(\u001b[0m\u001b[0mself\u001b[0m\u001b[1;33m,\u001b[0m \u001b[0mtext\u001b[0m\u001b[1;33m)\u001b[0m\u001b[1;33m:\u001b[0m\u001b[1;33m\u001b[0m\u001b[1;33m\u001b[0m\u001b[0m\n\u001b[1;32m--> 194\u001b[1;33m         \u001b[0mself\u001b[0m\u001b[1;33m.\u001b[0m\u001b[0m_update\u001b[0m\u001b[1;33m(\u001b[0m\u001b[1;33m)\u001b[0m\u001b[1;33m\u001b[0m\u001b[1;33m\u001b[0m\u001b[0m\n\u001b[0m\u001b[0;32m    195\u001b[0m         \u001b[0mtk\u001b[0m \u001b[1;33m=\u001b[0m \u001b[0mself\u001b[0m\u001b[1;33m.\u001b[0m\u001b[0macquire\u001b[0m\u001b[1;33m(\u001b[0m\u001b[0mtext\u001b[0m\u001b[1;33m)\u001b[0m\u001b[1;33m\u001b[0m\u001b[1;33m\u001b[0m\u001b[0m\n\u001b[0;32m    196\u001b[0m         \u001b[1;32mreturn\u001b[0m \u001b[0mtk\u001b[0m\u001b[1;33m\u001b[0m\u001b[1;33m\u001b[0m\u001b[0m\n",
      "\u001b[1;32m~\\Anaconda3\\envs\\TTS\\lib\\site-packages\\googletrans\\gtoken.py\u001b[0m in \u001b[0;36m_update\u001b[1;34m(self)\u001b[0m\n\u001b[0;32m     60\u001b[0m \u001b[1;33m\u001b[0m\u001b[0m\n\u001b[0;32m     61\u001b[0m         \u001b[1;31m# this will be the same as python code after stripping out a reserved word 'var'\u001b[0m\u001b[1;33m\u001b[0m\u001b[1;33m\u001b[0m\u001b[1;33m\u001b[0m\u001b[0m\n\u001b[1;32m---> 62\u001b[1;33m         \u001b[0mcode\u001b[0m \u001b[1;33m=\u001b[0m \u001b[0mself\u001b[0m\u001b[1;33m.\u001b[0m\u001b[0mRE_TKK\u001b[0m\u001b[1;33m.\u001b[0m\u001b[0msearch\u001b[0m\u001b[1;33m(\u001b[0m\u001b[0mr\u001b[0m\u001b[1;33m.\u001b[0m\u001b[0mtext\u001b[0m\u001b[1;33m)\u001b[0m\u001b[1;33m.\u001b[0m\u001b[0mgroup\u001b[0m\u001b[1;33m(\u001b[0m\u001b[1;36m1\u001b[0m\u001b[1;33m)\u001b[0m\u001b[1;33m.\u001b[0m\u001b[0mreplace\u001b[0m\u001b[1;33m(\u001b[0m\u001b[1;34m'var '\u001b[0m\u001b[1;33m,\u001b[0m \u001b[1;34m''\u001b[0m\u001b[1;33m)\u001b[0m\u001b[1;33m\u001b[0m\u001b[1;33m\u001b[0m\u001b[0m\n\u001b[0m\u001b[0;32m     63\u001b[0m         \u001b[1;31m# unescape special ascii characters such like a \\x3d(=)\u001b[0m\u001b[1;33m\u001b[0m\u001b[1;33m\u001b[0m\u001b[1;33m\u001b[0m\u001b[0m\n\u001b[0;32m     64\u001b[0m         \u001b[0mcode\u001b[0m \u001b[1;33m=\u001b[0m \u001b[0mcode\u001b[0m\u001b[1;33m.\u001b[0m\u001b[0mencode\u001b[0m\u001b[1;33m(\u001b[0m\u001b[1;33m)\u001b[0m\u001b[1;33m.\u001b[0m\u001b[0mdecode\u001b[0m\u001b[1;33m(\u001b[0m\u001b[1;34m'unicode-escape'\u001b[0m\u001b[1;33m)\u001b[0m\u001b[1;33m\u001b[0m\u001b[1;33m\u001b[0m\u001b[0m\n",
      "\u001b[1;31mAttributeError\u001b[0m: 'NoneType' object has no attribute 'group'"
     ]
    }
   ],
   "source": [
    "#Translate:\n",
    "translator=Translator()\n",
    "language='es'\n",
    "\n",
    "\n",
    "#translation=translator.translate('Hello, how are you?', dest=language)\n",
    "#print(translation.origin, ' -> ', translation.text)\n",
    "\n",
    "Pharagraphs_Translated=[]\n",
    "for Pharagraph in Pharagraphs[:3]:\n",
    "    translation=translator.translate(Pharagraph, dest=language)\n",
    "    Pharagraphs_Translated.append(translation.text)"
   ]
  },
  {
   "cell_type": "code",
   "execution_count": 16,
   "metadata": {},
   "outputs": [],
   "source": [
    "#TTS in translated language:\n",
    "for i, Pharagraph_Translated in enumerate(Pharagraphs_Translated):\n",
    "    myobj=gTTS(text=Pharagraph_Translated, lang=language, slow=False)\n",
    "    myobj.save(\"Frankenstein_gTTS_part\"+str(i)+\".mp3\")"
   ]
  },
  {
   "cell_type": "code",
   "execution_count": 25,
   "metadata": {},
   "outputs": [
    {
     "name": "stdout",
     "output_type": "stream",
     "text": [
      "1090\n"
     ]
    }
   ],
   "source": [
    "print(len(Pharagraphs))"
   ]
  },
  {
   "cell_type": "code",
   "execution_count": 29,
   "metadata": {},
   "outputs": [
    {
     "name": "stdout",
     "output_type": "stream",
     "text": [
      "Pharagraph:  1\n",
      ". Project Gutenberg's Frankenstein, by Mary Wollstonecraft (Godwin) Shelley\n",
      "\n",
      "This eBook is for the use of anyone anywhere in the United States and most\n",
      "other parts of the world at no cost and with almost no restrictions\n",
      "whatsoever.  You may copy it, give it away or re-use it under the terms of\n",
      "the Project Gutenberg License included with this eBook or online at\n",
      "www.gutenberg.org\n",
      "Pharagraph:  2\n",
      " If you are not located in the United States, you'll have\n",
      "to check the laws of the country where you are located before using this ebook.\n",
      "\n",
      "Title: Frankenstein\n",
      "       or The Modern Prometheus\n",
      "\n",
      "Author: Mary Wollstonecraft (Godwin) Shelley\n",
      "\n",
      "Release Date: October 31, 1993 [EBook #84]\n",
      "[Most recently updated: November 13, 2020]\n",
      "\n",
      "Language: English\n",
      "\n",
      "Character set encoding: UTF-8\n",
      "\n",
      "*** START OF THIS PROJECT GUTENBERG EBOOK FRANKENSTEIN ***\n",
      "\n",
      "\n",
      "\n",
      "\n",
      "Produced by Judith Boss, Christy Phillips, Lynn Hanninen,\n",
      "and David Meltzer\n",
      "Pharagraph:  3\n",
      "HTML version by Al Haines.\n",
      "Further corrections by Menno de Leeuw.\n",
      "\n",
      "\n",
      "\n",
      "\n",
      "Frankenstein;\n",
      "\n",
      "or, the Modern Prometheus\n",
      "\n",
      "by Mary Wollstonecraft (Godwin) Shelley\n",
      "\n",
      "\n",
      "CONTENTS\n",
      "\n",
      "Letter 1\n",
      "\n",
      "Letter 2\n",
      "\n",
      "Letter 3\n",
      "\n",
      "Letter 4\n",
      "\n",
      "Chapter 1\n",
      "\n",
      "Chapter 2\n",
      "\n",
      "Chapter 3\n",
      "\n",
      "Chapter 4\n",
      "\n",
      "Chapter 5\n",
      "\n",
      "Chapter 6\n",
      "\n",
      "Chapter 7\n",
      "\n",
      "Chapter 8\n",
      "\n",
      "Chapter 9\n",
      "\n",
      "Chapter 10\n",
      "\n",
      "Chapter 11\n",
      "\n",
      "Chapter 12\n",
      "\n",
      "Chapter 13\n",
      "\n",
      "Chapter 14\n",
      "\n",
      "Chapter 15\n",
      "\n",
      "Chapter 16\n",
      "\n",
      "Chapter 17\n",
      "\n",
      "Chapter 18\n",
      "\n",
      "Chapter 19\n",
      "\n",
      "Chapter 20\n",
      "\n",
      "Chapter 21\n",
      "\n",
      "Chapter 22\n",
      "\n",
      "Chapter 23\n",
      "\n",
      "Chapter 24\n",
      "\n",
      "\n",
      "\n",
      "\n",
      "Letter 1\n",
      "\n",
      "_To Mrs\n",
      "Pharagraph:  4\n",
      "Saville, England._\n",
      "\n",
      "\n",
      "St. Petersburgh, Dec. 11th, 17—.\n",
      "\n",
      "\n",
      "You will rejoice to hear that no disaster has accompanied the\n",
      "commencement of an enterprise which you have regarded with such evil\n",
      "forebodings\n",
      "Pharagraph:  5\n",
      " I arrived here yesterday, and my first task is to assure\n",
      "my dear sister of my welfare and increasing confidence in the success\n",
      "of my undertaking.\n",
      "\n",
      "I am already far north of London, and as I walk in the streets of\n",
      "Petersburgh, I feel a cold northern breeze play upon my cheeks, which\n",
      "braces my nerves and fills me with delight\n"
     ]
    }
   ],
   "source": [
    "for i in range(5):\n",
    "    print('Pharagraph: ' , i+1)\n",
    "    print(Pharagraphs[i])"
   ]
  },
  {
   "cell_type": "code",
   "execution_count": null,
   "metadata": {},
   "outputs": [],
   "source": []
  }
 ],
 "metadata": {
  "kernelspec": {
   "display_name": "Python 3",
   "language": "python",
   "name": "python3"
  },
  "language_info": {
   "codemirror_mode": {
    "name": "ipython",
    "version": 3
   },
   "file_extension": ".py",
   "mimetype": "text/x-python",
   "name": "python",
   "nbconvert_exporter": "python",
   "pygments_lexer": "ipython3",
   "version": "3.8.5"
  }
 },
 "nbformat": 4,
 "nbformat_minor": 4
}
