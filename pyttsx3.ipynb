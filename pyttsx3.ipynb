{
 "cells": [
  {
   "cell_type": "markdown",
   "metadata": {},
   "source": [
    "pyttsx3: pip install pyttsx3 https://pyttsx3.readthedocs.io/en/latest/"
   ]
  },
  {
   "cell_type": "markdown",
   "metadata": {},
   "source": [
    "Can import a text document and convert it to a mp3 file"
   ]
  },
  {
   "cell_type": "code",
   "execution_count": 34,
   "metadata": {},
   "outputs": [],
   "source": [
    "import pyttsx3 as TTS3\n",
    "\n",
    "#creating TTS engine\n",
    "engine=TTS3.init()"
   ]
  },
  {
   "cell_type": "markdown",
   "metadata": {},
   "source": [
    "Settings:"
   ]
  },
  {
   "cell_type": "code",
   "execution_count": 35,
   "metadata": {},
   "outputs": [
    {
     "name": "stdout",
     "output_type": "stream",
     "text": [
      "current volume: 1.0\n"
     ]
    }
   ],
   "source": [
    "#Volume:\n",
    "volume=engine.getProperty('volume')\n",
    "print('current volume:', volume)\n",
    "volume=volume #keep volume\n",
    "#volume=1 #set volume (value 0 to 1)\n",
    "engine.setProperty('volume', volume)"
   ]
  },
  {
   "cell_type": "code",
   "execution_count": 36,
   "metadata": {},
   "outputs": [
    {
     "name": "stdout",
     "output_type": "stream",
     "text": [
      "current volume: 200\n"
     ]
    }
   ],
   "source": [
    "#speed the text is read: \n",
    "rate=engine.getProperty('rate')\n",
    "print('current volume:', rate)\n",
    "rate=rate #words spoken per minute\n",
    "#volume=1 #set words spoken per minute (default is 200 wpm)\n",
    "engine.setProperty('volume', rate)\n"
   ]
  },
  {
   "cell_type": "code",
   "execution_count": 37,
   "metadata": {},
   "outputs": [],
   "source": [
    "#Voice choice : \n",
    "voices = engine.getProperty('voices')\n",
    "\n",
    "#to get more voices/langauges on Windows download the desired language packs \n",
    "\n",
    "#see possible voices:\n",
    "#for i in range(len(voices)):\n",
    "#    print(\"Voice: %s\" % voices[i].name)\n",
    "#    print(\" - ID: %s\" % voices[i].id)\n",
    "#    print(\" - Languages: %s\" % voices[i].languages)\n",
    "#    print(\" - Gender: %s\" % voices[i].gender)\n",
    "#    print(\" - Age: %s\" % voices[i].age)\n",
    "#    print(\"\\n\")\n",
    "\n",
    "engine.setProperty('voice', voices[1].id) #0 is US man, #1 is British Woman, #2 is US Woman, #3 is Hispanic Woman "
   ]
  },
  {
   "cell_type": "code",
   "execution_count": 38,
   "metadata": {},
   "outputs": [],
   "source": [
    "#Test Settings:\n",
    "engine.say(\"I will speak this text\")\n",
    "engine.runAndWait()"
   ]
  },
  {
   "cell_type": "code",
   "execution_count": 39,
   "metadata": {},
   "outputs": [],
   "source": [
    "#import and read file:\n",
    "file='Frankenstein or The modern Prometheus.txt'\n",
    "f=open(file, errors='ignore')\n",
    "text=f.read()\n",
    "f.close()\n",
    "#print(text)\n",
    "\n",
    "#name of output file:\n",
    "file_name='Frankenstein.mp3'\n",
    "\n",
    "#creat TTS mp3 file:\n",
    "engine.save_to_file(text, file_name)\n",
    "engine.runAndWait()"
   ]
  }
 ],
 "metadata": {
  "kernelspec": {
   "display_name": "Python 3",
   "language": "python",
   "name": "python3"
  },
  "language_info": {
   "codemirror_mode": {
    "name": "ipython",
    "version": 3
   },
   "file_extension": ".py",
   "mimetype": "text/x-python",
   "name": "python",
   "nbconvert_exporter": "python",
   "pygments_lexer": "ipython3",
   "version": "3.8.5"
  }
 },
 "nbformat": 4,
 "nbformat_minor": 4
}
